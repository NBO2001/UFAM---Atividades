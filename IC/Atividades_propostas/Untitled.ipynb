{
 "cells": [
  {
   "cell_type": "markdown",
   "id": "91351696",
   "metadata": {},
   "source": [
    "# Atividades Propostas"
   ]
  },
  {
   "cell_type": "markdown",
   "id": "3253ce5e",
   "metadata": {},
   "source": [
    "## Minhas suposição das possíveis questões"
   ]
  },
  {
   "cell_type": "markdown",
   "id": "7a7ed903",
   "metadata": {},
   "source": [
    "### Funções que é importantissimo decorar\n",
    "\n",
    "1. Defina a função head, que vai receber uma lista e retornar o primeiro elemento da lista.\n",
    "\n",
    "<code>head([5,8,9,4,1,3,6,9]) == 5</code>\n",
    "\n",
    "<code>head([9,4,1,3,6,9]) == 9</code>\n",
    "\n",
    "<code>head('Natanael') == 'N'</code>"
   ]
  },
  {
   "cell_type": "code",
   "execution_count": 2,
   "id": "c8683696",
   "metadata": {},
   "outputs": [],
   "source": [
    "def head(lista):\n",
    "    pass"
   ]
  },
  {
   "cell_type": "markdown",
   "id": "f0700b36",
   "metadata": {},
   "source": [
    "2. Defina a função tail que vai retornar a lista sem o primeiro elemento\n",
    "\n",
    "<code>tail([5,8,9,4,1,3,6,9]) == [8, 9, 4, 1, 3, 6, 9]</code>\n",
    "\n",
    "<code>tail([9,4,1,3,6,9]) == [4, 1, 3, 6, 9]</code>\n",
    "\n",
    "<code>tail('Natanael') == 'atanael'</code>"
   ]
  },
  {
   "cell_type": "code",
   "execution_count": 6,
   "id": "ad8eb278",
   "metadata": {},
   "outputs": [],
   "source": [
    "def tail(lista):\n",
    "    pass"
   ]
  },
  {
   "cell_type": "markdown",
   "id": "831de9f8",
   "metadata": {},
   "source": [
    "### Usando o for\n",
    "\n",
    "<code>for</code> é uma função que percorre um elemento composto.\n",
    "\n",
    "o <code>for</code> tem a seguinte sintaxe:\n",
    "\n",
    "<code style=\"color: red;\">for</code><code>chocolate <code style=\"color: red;\">in</code><code>caixa_de_chocolate</code>\n",
    "    \n",
    "Gosto de comparar o for a quando você come uma caixa de chocolate, hahaha.\n",
    "    \n",
    "Para você comer todos os chocolates é necessário pegar um por um, correto?\n",
    "    \n",
    "E é exatamente isso que o for faz, ele pegar elemento por elemento de uma determinada \"caixa\".\n",
    "    \n",
    "Poderia ler o for da seguinte forma: \n",
    "    \n",
    "pegue ( <code style=\"color: red;\">for</code> ) um chocolate da ( <code style=\"color: red;\">in</code> ) caixa_de_chocolate\n",
    "    \n",
    "Fez sentido ?\n",
    "\n",
    "### Usando o for dentro de listas\n",
    "   \n",
    "Mas em IC só podemos usar o for dentro de uma lista e para isso você precisa falar o quê vai entrar na lista.\n",
    "\n",
    "Vamos continua com o exemplo da caixa de chocolate e vamos pensar em listas como \"caixas.\n",
    "    \n",
    "Como eu faria se quiser pegar chocolate por chocolate e colocar em outra caixa ?\n",
    "    \n",
    "<code style=\"color: green;\">[ chocolate</code><code style=\"color: red;\">for</code><code style=\"color: green;\">chocolate <code style=\"color: red;\">in</code><code >caixa_de_chocolate</code> ]\n",
    "    \n",
    "Vamos ler isso? Dentro da nova caixa vou jogar o chocolate (<code style=\"color: green;\">chocolate</code>) e pegue ( <code style=\"color: red;\">for</code> ) um chocolate da ( <code style=\"color: red;\">in</code> ) caixa_de_chocolate\n",
    "    \n",
    "O que vai acontecer? Você vai pegar chocolate por chocolate e colocar na nova caixa. Fez sentido ?? hahaha\n",
    "    \n",
    "Agora pratica aí.."
   ]
  },
  {
   "cell_type": "code",
   "execution_count": 12,
   "id": "257703b8",
   "metadata": {},
   "outputs": [],
   "source": [
    "caixa_de_chocolate = [\"Baton ao Leite\",\"Baton Creme\",\"Garoto ao Leite\", \"Opereta Creme\",\"Serenata de Amor\" ]"
   ]
  },
  {
   "cell_type": "markdown",
   "id": "a6d9025d",
   "metadata": {},
   "source": [
    "### Defina a função copia_lista que gere uma copia da lista, usando o for para isso.\n",
    "<code>copia_lista(caixa_de_chocolate)==\n",
    " ['Baton ao Leite',\n",
    " 'Baton Creme',\n",
    " 'Garoto ao Leite',\n",
    " 'Opereta Creme',\n",
    " 'Serenata de Amor']<code> "
   ]
  },
  {
   "cell_type": "code",
   "execution_count": 13,
   "id": "8fd9c6ac",
   "metadata": {},
   "outputs": [],
   "source": [
    "def copia_lista(listas):\n",
    "    pass"
   ]
  },
  {
   "cell_type": "markdown",
   "id": "d0bc624c",
   "metadata": {},
   "source": [
    "Cria a funçao, sem_chocolate que vai receber um chocolate e uma caixa de chocolate e vai retonar uma \"copia\" da caixa sem o chocolate recebido.\n",
    "\n",
    "ex: \n",
    "<code>sem_chocolate('Baton Creme',  ['Baton ao Leite',\n",
    " 'Baton Creme',\n",
    " 'Garoto ao Leite',\n",
    " 'Opereta Creme',\n",
    " 'Serenata de Amor']) ==  ['Baton ao Leite',\n",
    " 'Garoto ao Leite',\n",
    " 'Opereta Creme',\n",
    " 'Serenata de Amor'] </code>"
   ]
  },
  {
   "cell_type": "code",
   "execution_count": null,
   "id": "24f01349",
   "metadata": {},
   "outputs": [],
   "source": []
  }
 ],
 "metadata": {
  "kernelspec": {
   "display_name": "Python 3",
   "language": "python",
   "name": "python3"
  },
  "language_info": {
   "codemirror_mode": {
    "name": "ipython",
    "version": 3
   },
   "file_extension": ".py",
   "mimetype": "text/x-python",
   "name": "python",
   "nbconvert_exporter": "python",
   "pygments_lexer": "ipython3",
   "version": "3.6.9"
  }
 },
 "nbformat": 4,
 "nbformat_minor": 5
}
