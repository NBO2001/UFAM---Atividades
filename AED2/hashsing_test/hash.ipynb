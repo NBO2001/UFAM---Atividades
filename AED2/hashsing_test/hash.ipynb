{
 "cells": [
  {
   "cell_type": "code",
   "execution_count": 1,
   "metadata": {},
   "outputs": [],
   "source": [
    "def murmur_32_scramble(k):\n",
    "    \n",
    "    k = k * 0xcc9e2d51\n",
    "    k = (k << 15) | (k >> 17)\n",
    "    k = k * 0x1b873593\n",
    "\n",
    "    return k\n"
   ]
  },
  {
   "cell_type": "code",
   "execution_count": 2,
   "metadata": {},
   "outputs": [
    {
     "data": {
      "text/plain": [
       "70240436260497066684654205"
      ]
     },
     "execution_count": 2,
     "metadata": {},
     "output_type": "execute_result"
    }
   ],
   "source": [
    "murmur_32_scramble(0x548)"
   ]
  }
 ],
 "metadata": {
  "kernelspec": {
   "display_name": "py36",
   "language": "python",
   "name": "python3"
  },
  "language_info": {
   "codemirror_mode": {
    "name": "ipython",
    "version": 3
   },
   "file_extension": ".py",
   "mimetype": "text/x-python",
   "name": "python",
   "nbconvert_exporter": "python",
   "pygments_lexer": "ipython3",
   "version": "3.10.4"
  },
  "orig_nbformat": 4,
  "vscode": {
   "interpreter": {
    "hash": "04dcb3f6a367c728cd23f66085c9c7d5d2b5cfc39fd5eebfcaa944146d36fa18"
   }
  }
 },
 "nbformat": 4,
 "nbformat_minor": 2
}
