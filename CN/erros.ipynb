{
 "cells": [
  {
   "cell_type": "code",
   "execution_count": 13,
   "metadata": {},
   "outputs": [],
   "source": [
    "from math import pi, e, sqrt\n"
   ]
  },
  {
   "cell_type": "code",
   "execution_count": 14,
   "metadata": {},
   "outputs": [],
   "source": [
    "def erro_abs(valor_real, valor_aproximado):\n",
    "\n",
    "\treturn abs(valor_real - valor_aproximado)"
   ]
  },
  {
   "cell_type": "code",
   "execution_count": 15,
   "metadata": {},
   "outputs": [],
   "source": [
    "def erro_relativo(valor_real, valor_aproximado):\n",
    "\n",
    "\treturn abs(valor_real - valor_aproximado)/abs(valor_real)"
   ]
  },
  {
   "cell_type": "code",
   "execution_count": 16,
   "metadata": {},
   "outputs": [],
   "source": [
    "def app(valor_real, valor_aproximado):\n",
    "\tprint(f'Valor real (p): { valor_real }')\n",
    "\tprint(f'Valor aproximado (p*): { valor_aproximado }')\n",
    "\tprint(f'Erro absoluto: {erro_abs(valor_real, valor_aproximado)}')\n",
    "\tprint(f'Erro relativo: {erro_relativo(valor_real, valor_aproximado)}')"
   ]
  },
  {
   "cell_type": "code",
   "execution_count": 17,
   "metadata": {},
   "outputs": [
    {
     "name": "stdout",
     "output_type": "stream",
     "text": [
      "Valor real (p): 3.141592653589793\n",
      "Valor aproximado (p*): 3.142857142857143\n",
      "Erro absoluto: 0.0012644892673496777\n",
      "Erro relativo: 0.0004024994347707008\n"
     ]
    }
   ],
   "source": [
    "app(pi, 22/7)"
   ]
  },
  {
   "cell_type": "code",
   "execution_count": 18,
   "metadata": {},
   "outputs": [
    {
     "name": "stdout",
     "output_type": "stream",
     "text": [
      "Valor real (p): 3.141592653589793\n",
      "Valor aproximado (p*): 3.1416\n",
      "Erro absoluto: 7.346410206832132e-06\n",
      "Erro relativo: 2.3384349967961744e-06\n"
     ]
    }
   ],
   "source": [
    "app(pi, 3.1416)"
   ]
  },
  {
   "cell_type": "code",
   "execution_count": 19,
   "metadata": {},
   "outputs": [
    {
     "name": "stdout",
     "output_type": "stream",
     "text": [
      "Valor real (p): 2.718281828459045\n",
      "Valor aproximado (p*): 2.718\n",
      "Erro absoluto: 0.0002818284590451192\n",
      "Erro relativo: 0.00010367889601972718\n"
     ]
    }
   ],
   "source": [
    "app(e, 2.718)"
   ]
  },
  {
   "cell_type": "code",
   "execution_count": 20,
   "metadata": {},
   "outputs": [
    {
     "name": "stdout",
     "output_type": "stream",
     "text": [
      "Valor real (p): 1.4142135623730951\n",
      "Valor aproximado (p*): 1.414\n",
      "Erro absoluto: 0.00021356237309522186\n",
      "Erro relativo: 0.00015101140222192286\n"
     ]
    }
   ],
   "source": [
    "app(sqrt(2), 1.414)"
   ]
  },
  {
   "cell_type": "code",
   "execution_count": 21,
   "metadata": {},
   "outputs": [
    {
     "name": "stdout",
     "output_type": "stream",
     "text": [
      "Valor real (p): 1\n",
      "Valor aproximado (p*): 0.47\n",
      "Erro absoluto: 0.53\n",
      "Erro relativo: 0.53\n"
     ]
    }
   ],
   "source": [
    "app(1, 0.47)"
   ]
  },
  {
   "cell_type": "code",
   "execution_count": 22,
   "metadata": {},
   "outputs": [
    {
     "name": "stdout",
     "output_type": "stream",
     "text": [
      "Valor real (p): 1\n",
      "Valor aproximado (p*): 0.95\n",
      "Erro absoluto: 0.050000000000000044\n",
      "Erro relativo: 0.050000000000000044\n"
     ]
    }
   ],
   "source": [
    "app(1, 0.95)"
   ]
  },
  {
   "cell_type": "code",
   "execution_count": 23,
   "metadata": {},
   "outputs": [
    {
     "name": "stdout",
     "output_type": "stream",
     "text": [
      "Valor real (p): 3\n",
      "Valor aproximado (p*): 3.09\n",
      "Erro absoluto: 0.08999999999999986\n",
      "Erro relativo: 0.029999999999999954\n"
     ]
    }
   ],
   "source": [
    "app(3, 3.09)"
   ]
  }
 ],
 "metadata": {
  "kernelspec": {
   "display_name": "Python 3.10.4 ('py36')",
   "language": "python",
   "name": "python3"
  },
  "language_info": {
   "codemirror_mode": {
    "name": "ipython",
    "version": 3
   },
   "file_extension": ".py",
   "mimetype": "text/x-python",
   "name": "python",
   "nbconvert_exporter": "python",
   "pygments_lexer": "ipython3",
   "version": "3.10.4"
  },
  "orig_nbformat": 4,
  "vscode": {
   "interpreter": {
    "hash": "04dcb3f6a367c728cd23f66085c9c7d5d2b5cfc39fd5eebfcaa944146d36fa18"
   }
  }
 },
 "nbformat": 4,
 "nbformat_minor": 2
}
