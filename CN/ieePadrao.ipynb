{
 "cells": [
  {
   "cell_type": "code",
   "execution_count": 2,
   "metadata": {},
   "outputs": [],
   "source": [
    "def bim_for_decimal(bin_val:str) -> int:\n",
    "\n",
    "    init = len(bin_val) - 1\n",
    "\n",
    "    acum = 0\n",
    "\n",
    "    for i in range(len(bin_val)):\n",
    "        acum += int(bin_val[i]) * (2**init)\n",
    "        init -= 1\n",
    "\n",
    "    return acum\n"
   ]
  },
  {
   "cell_type": "code",
   "execution_count": 3,
   "metadata": {},
   "outputs": [],
   "source": [
    "def bim_fracao_for_decimal(bin_val:str) -> float:\n",
    "    acum = 0\n",
    "\n",
    "    for i in range(len(bin_val)):\n",
    "        acum += int(bin_val[i]) * (2**(-(i+1)))\n",
    "\n",
    "    return acum"
   ]
  },
  {
   "cell_type": "code",
   "execution_count": 4,
   "metadata": {},
   "outputs": [],
   "source": [
    "def execute_shift(expor:int, number_binary:str) -> tuple:\n",
    "\n",
    "    if expor >= 0:\n",
    "        return (f\"1{number_binary[:expor]}\", number_binary[expor:])\n",
    "    else:\n",
    "        init = abs(expor) - 1\n",
    "        newString = \"1\"\n",
    "        for _ in range(init,0, -1):\n",
    "            newString = f\"0{newString}\" \n",
    "        \n",
    "        return (f\"0\", newString + number_binary)\n",
    "        "
   ]
  },
  {
   "cell_type": "code",
   "execution_count": 5,
   "metadata": {},
   "outputs": [],
   "source": [
    "def app(bin_input):\n",
    "\n",
    "    signal_b = bin_input[0]\n",
    "\n",
    "    expor = bim_for_decimal(bin_input[1:12]) - 1023\n",
    "\n",
    "    int_part, frac_part = execute_shift(expor,bin_input[12:])\n",
    "\n",
    "    resul = (1 if signal_b == '0' else -1) * (bim_for_decimal(int_part) + bim_fracao_for_decimal(frac_part))\n",
    "\n",
    "\n",
    "    print(resul)"
   ]
  },
  {
   "cell_type": "code",
   "execution_count": 6,
   "metadata": {},
   "outputs": [],
   "source": [
    "\n",
    "# 0100000001011001000000000000000000000000000000000000000000000000\n",
    "# 0011111111010000000000000000000000000000000000000000000000000000"
   ]
  },
  {
   "cell_type": "code",
   "execution_count": 7,
   "metadata": {},
   "outputs": [
    {
     "name": "stdout",
     "output_type": "stream",
     "text": [
      "3224.0\n"
     ]
    }
   ],
   "source": [
    "#A\n",
    "app('0100000010101001001100000000000000000000000000000000000000000000')"
   ]
  },
  {
   "cell_type": "code",
   "execution_count": 8,
   "metadata": {},
   "outputs": [
    {
     "name": "stdout",
     "output_type": "stream",
     "text": [
      "-3224.0\n"
     ]
    }
   ],
   "source": [
    "#B\n",
    "app('1100000010101001001100000000000000000000000000000000000000000000')"
   ]
  },
  {
   "cell_type": "code",
   "execution_count": 9,
   "metadata": {},
   "outputs": [
    {
     "name": "stdout",
     "output_type": "stream",
     "text": [
      "1.32421875\n"
     ]
    }
   ],
   "source": [
    "# C\n",
    "app('0011111111110101001100000000000000000000000000000000000000000000')"
   ]
  },
  {
   "cell_type": "code",
   "execution_count": 10,
   "metadata": {},
   "outputs": [
    {
     "name": "stdout",
     "output_type": "stream",
     "text": [
      "1.3242187500000002\n"
     ]
    }
   ],
   "source": [
    "# D\n",
    "app('0011111111110101001100000000000000000000000000000000000000000001')"
   ]
  }
 ],
 "metadata": {
  "kernelspec": {
   "display_name": "Python 3.10.4 ('py36')",
   "language": "python",
   "name": "python3"
  },
  "language_info": {
   "codemirror_mode": {
    "name": "ipython",
    "version": 3
   },
   "file_extension": ".py",
   "mimetype": "text/x-python",
   "name": "python",
   "nbconvert_exporter": "python",
   "pygments_lexer": "ipython3",
   "version": "3.10.4"
  },
  "orig_nbformat": 4,
  "vscode": {
   "interpreter": {
    "hash": "04dcb3f6a367c728cd23f66085c9c7d5d2b5cfc39fd5eebfcaa944146d36fa18"
   }
  }
 },
 "nbformat": 4,
 "nbformat_minor": 2
}
