{
 "cells": [
  {
   "cell_type": "code",
   "execution_count": 2,
   "metadata": {},
   "outputs": [],
   "source": [
    "#Computacao Numerica - Calculo Numerico\n",
    "#Algoritmo 1.1 - Eliminacao de Gauss\n",
    "\n",
    "import numpy as np"
   ]
  },
  {
   "cell_type": "code",
   "execution_count": 3,
   "metadata": {},
   "outputs": [],
   "source": [
    "def matrix_scaling(matrix_components, matrix_result):\n",
    "    \n",
    "    # size matrix result.\n",
    "    tam = len(matrix_result)\n",
    "\n",
    "    for i in range(tam-1):\n",
    "        for j in range(i+1,tam):\n",
    "            if matrix_components[j,i] != 0:\n",
    "                m = matrix_components[j,i]/matrix_components[i,i]\n",
    "                matrix_components[j] = matrix_components[j] - (m*matrix_components[i])\n",
    "                matrix_result[j] =  matrix_result[j] - (m*matrix_result[i])\n",
    "    \n",
    "    return (matrix_components, matrix_result)\n",
    "            "
   ]
  },
  {
   "cell_type": "code",
   "execution_count": 4,
   "metadata": {},
   "outputs": [],
   "source": [
    "def gaus_elim(matrix_components, matrix_result):\n",
    "\n",
    "    # size matrix result.\n",
    "    n = len(matrix_result)\n",
    "\n",
    "    # Back substitution\n",
    "    for k in range(n-1, -1, -1):\n",
    "        matrix_result[k] = (matrix_result[k] - np.dot(matrix_components[k, k+1:n], matrix_result[k+1:n]))/matrix_components[k, k]\n",
    "    return (matrix_components,matrix_result)"
   ]
  },
  {
   "cell_type": "code",
   "execution_count": 5,
   "metadata": {},
   "outputs": [],
   "source": [
    "z = np.array([[4.0, 1.0, 2.0], [2.0, 4.0, -1.0], [1.0, 1.0, -3.0]])\n",
    "k = np.array([[9.0, -5.0, -9.0]])"
   ]
  },
  {
   "cell_type": "code",
   "execution_count": 6,
   "metadata": {},
   "outputs": [
    {
     "name": "stdout",
     "output_type": "stream",
     "text": [
      "[ 9. -5. -9.]\n"
     ]
    }
   ],
   "source": [
    "print(k[0])"
   ]
  },
  {
   "cell_type": "code",
   "execution_count": 7,
   "metadata": {},
   "outputs": [
    {
     "name": "stdout",
     "output_type": "stream",
     "text": [
      "[[ 4.  1.  2.]\n",
      " [ 2.  4. -1.]\n",
      " [ 1.  1. -3.]]\n"
     ]
    }
   ],
   "source": [
    "print(z)"
   ]
  },
  {
   "cell_type": "code",
   "execution_count": 8,
   "metadata": {},
   "outputs": [
    {
     "name": "stdout",
     "output_type": "stream",
     "text": [
      "[[ 4.          1.          2.        ]\n",
      " [ 0.          3.5        -2.        ]\n",
      " [ 0.          0.         -3.07142857]]\n"
     ]
    }
   ],
   "source": [
    "(matrix_components, matrix_result) = matrix_scaling(z,k[0])\n",
    "\n",
    "print(matrix_components)"
   ]
  },
  {
   "cell_type": "code",
   "execution_count": 9,
   "metadata": {},
   "outputs": [
    {
     "name": "stdout",
     "output_type": "stream",
     "text": [
      "[ 9.         -9.5        -9.21428571]\n"
     ]
    }
   ],
   "source": [
    "print(matrix_result)"
   ]
  },
  {
   "cell_type": "code",
   "execution_count": 10,
   "metadata": {},
   "outputs": [
    {
     "name": "stdout",
     "output_type": "stream",
     "text": [
      "[[ 4.          1.          2.        ]\n",
      " [ 0.          3.5        -2.        ]\n",
      " [ 0.          0.         -3.07142857]]\n",
      "[ 1. -1.  3.]\n"
     ]
    }
   ],
   "source": [
    "(matrix_components, matrix_result) = gaus_elim(matrix_components,matrix_result)\n",
    "\n",
    "print(matrix_components)\n",
    "print(matrix_result)"
   ]
  },
  {
   "cell_type": "code",
   "execution_count": 20,
   "metadata": {},
   "outputs": [
    {
     "name": "stdout",
     "output_type": "stream",
     "text": [
      "LETRA A - Matriz Inicial\n",
      "[[1.         0.5        0.33333333 0.25      ]\n",
      " [0.5        0.33333333 0.25       0.2       ]\n",
      " [0.33333333 0.25       0.2        0.16666667]\n",
      " [0.25       0.2        0.16666667 0.14285714]]\n",
      "Matriz Resultaos\n",
      "[[0.16666667 0.14285714 0.125      0.11111111]]\n"
     ]
    }
   ],
   "source": [
    "matrix_components = np.array([[1.0,(1/2),(1/3),(1/4)], [(1/2),(1/3),(1/4),(1/5)], [(1/3),(1/4),(1/5),(1/6)],[(1/4),(1/5),(1/6),(1/7)]])\n",
    "matrix_result = np.array([[(1/6), (1/7), (1/8),(1/9)]])\n",
    "\n",
    "\n",
    "print(\"LETRA A - Matriz Inicial\")\n",
    "print(matrix_components)\n",
    "\n",
    "print(\"Matriz Resultaos\")\n",
    "print(matrix_result)\n",
    "\n",
    "(matrix_components, matrix_result) = matrix_scaling(matrix_components,matrix_result[0])\n",
    "(matrix_components, matrix_result) = gaus_elim(matrix_components,matrix_result)"
   ]
  },
  {
   "cell_type": "code",
   "execution_count": 15,
   "metadata": {},
   "outputs": [
    {
     "name": "stdout",
     "output_type": "stream",
     "text": [
      "Matriz final\n",
      "[[ 1.00000000e+00  5.00000000e-01  3.33333333e-01  2.50000000e-01]\n",
      " [ 0.00000000e+00  8.33333333e-02  8.33333333e-02  7.50000000e-02]\n",
      " [ 0.00000000e+00 -1.38777878e-17  5.55555556e-03  8.33333333e-03]\n",
      " [ 0.00000000e+00  2.08166817e-17  0.00000000e+00  3.57142857e-04]]\n",
      "Resultados\n",
      "[-0.03174603  0.5952381  -2.38095238  2.77777778]\n"
     ]
    }
   ],
   "source": [
    "\n",
    "print(\"Matriz final\")\n",
    "print(matrix_components)\n",
    "print(\"Resultados\")\n",
    "print(matrix_result)"
   ]
  },
  {
   "cell_type": "code",
   "execution_count": 21,
   "metadata": {},
   "outputs": [
    {
     "name": "stdout",
     "output_type": "stream",
     "text": [
      "LETRA B - Matriz Inicial\n",
      "[[ 2.  1. -1.  4. -3.]\n",
      " [ 1.  0.  2. -1.  1.]\n",
      " [ 0. -2. -1.  1. -1.]\n",
      " [ 3.  1. -4.  0.  5.]\n",
      " [ 1. -1. -1. -1.  1.]]\n",
      "Matriz Resultaos\n",
      "[[ 7.  2. -5.  6.  3.]]\n"
     ]
    }
   ],
   "source": [
    "matrix_components = np.array([\n",
    "    [ 2.0,1.0,-1.0,4.0,-3.0], \n",
    "    [1.0,0.0,2.0,-1.0,1.0],\n",
    "    [0.0,-2.0,-1.0,1.0,-1.0],\n",
    "    [3.0,1.0,-4.0,0.0,5.0],\n",
    "    [1.0,-1.0,-1.0,-1.0,1.0]\n",
    " ])\n",
    "matrix_result = np.array([[7.0,2.0,-5.0,6.0,3.0]])\n",
    "\n",
    "\n",
    "print(\"LETRA B - Matriz Inicial\")\n",
    "print(matrix_components)\n",
    "print(\"Matriz Resultaos\")\n",
    "print(matrix_result)\n",
    "\n",
    "(matrix_components, matrix_result) = matrix_scaling(matrix_components,matrix_result[0])\n",
    "(matrix_components, matrix_result) = gaus_elim(matrix_components,matrix_result)"
   ]
  },
  {
   "cell_type": "code",
   "execution_count": 18,
   "metadata": {},
   "outputs": [
    {
     "name": "stdout",
     "output_type": "stream",
     "text": [
      "Matriz final\n",
      "[[ 2.00000000e+00  1.00000000e+00 -1.00000000e+00  4.00000000e+00\n",
      "  -3.00000000e+00]\n",
      " [ 0.00000000e+00 -5.00000000e-01  2.50000000e+00 -3.00000000e+00\n",
      "   2.50000000e+00]\n",
      " [ 0.00000000e+00  0.00000000e+00 -1.10000000e+01  1.30000000e+01\n",
      "  -1.10000000e+01]\n",
      " [ 0.00000000e+00  0.00000000e+00  0.00000000e+00 -8.90909091e+00\n",
      "   1.20000000e+01]\n",
      " [ 0.00000000e+00  0.00000000e+00  0.00000000e+00 -4.44089210e-16\n",
      "  -1.65306122e+00]]\n",
      "Resultados\n",
      "[ 3.98765432  2.85185185 -1.28395062 -3.37037037 -2.79012346]\n"
     ]
    }
   ],
   "source": [
    "print(\"Matriz final\")\n",
    "print(matrix_components)\n",
    "print(\"Resultados\")\n",
    "print(matrix_result)"
   ]
  }
 ],
 "metadata": {
  "kernelspec": {
   "display_name": "Python 3.10.4 ('py36')",
   "language": "python",
   "name": "python3"
  },
  "language_info": {
   "codemirror_mode": {
    "name": "ipython",
    "version": 3
   },
   "file_extension": ".py",
   "mimetype": "text/x-python",
   "name": "python",
   "nbconvert_exporter": "python",
   "pygments_lexer": "ipython3",
   "version": "3.10.4"
  },
  "orig_nbformat": 4,
  "vscode": {
   "interpreter": {
    "hash": "04dcb3f6a367c728cd23f66085c9c7d5d2b5cfc39fd5eebfcaa944146d36fa18"
   }
  }
 },
 "nbformat": 4,
 "nbformat_minor": 2
}
