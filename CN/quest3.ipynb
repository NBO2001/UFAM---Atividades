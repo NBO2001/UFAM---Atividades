{
 "cells": [
  {
   "cell_type": "code",
   "execution_count": 1,
   "metadata": {},
   "outputs": [],
   "source": [
    "from math import pi, e, sqrt\n"
   ]
  },
  {
   "cell_type": "code",
   "execution_count": 2,
   "metadata": {},
   "outputs": [],
   "source": [
    "def erro_abs(valor_real, valor_aproximado):\n",
    "\n",
    "\treturn abs(valor_real - valor_aproximado)"
   ]
  },
  {
   "cell_type": "code",
   "execution_count": 3,
   "metadata": {},
   "outputs": [],
   "source": [
    "def erro_relativo(valor_real, valor_aproximado):\n",
    "\n",
    "\treturn abs(valor_real - valor_aproximado)/abs(valor_real)"
   ]
  },
  {
   "cell_type": "code",
   "execution_count": 4,
   "metadata": {},
   "outputs": [],
   "source": [
    "def app(valor_real, valor_aproximado):\n",
    "\t#print(f'(i) Valor exato (p): { valor_real }')\n",
    "\t#print(f'Valor aproximado (p*): { valor_aproximado }')\n",
    "\t#print(f'Erro absoluto: {erro_abs(valor_real, valor_aproximado):.4f}')\n",
    "\tprint(f'Erro relativo: {erro_relativo(valor_real, valor_aproximado):.4f}')"
   ]
  },
  {
   "cell_type": "code",
   "execution_count": 5,
   "metadata": {},
   "outputs": [],
   "source": [
    "def show_resul(value):\n",
    "\n",
    "    valor_exato = f\"{value}\"\n",
    "\n",
    "    parte_inteira, parte_flutuante = valor_exato.split(\".\")\n",
    "\n",
    "    valor_trucando =f\"{parte_inteira}.{parte_flutuante[:3]}\"\n",
    "\n",
    "    float_analise = parte_flutuante[:4]\n",
    "\n",
    "    if int(float_analise[3]) > 5:\n",
    "        new_val = int(float_analise[2]) + 1\n",
    "        new_float = f\"{parte_inteira}.{float_analise[:2]}{new_val}\"\n",
    "    else:\n",
    "        new_float = valor_trucando\n",
    "\n",
    "\n",
    "    print(f'(i) Valor exato (p): { valor_exato }')\n",
    "    print(f'(ii) Valor truncado: { valor_trucando }')\n",
    "    print(f'(iii) Valor arredondado: { new_float }')\n",
    "    print(\"(iv) Erros relativos (ii) e (iii)\")\n",
    "\n",
    "    print(f'Erro relativo (ii): {erro_relativo(value, float(valor_trucando))}')\n",
    "    print(f'Erro relativo (iii): {erro_relativo(value, float(new_float))}')\n",
    "    "
   ]
  },
  {
   "cell_type": "code",
   "execution_count": 6,
   "metadata": {},
   "outputs": [
    {
     "name": "stdout",
     "output_type": "stream",
     "text": [
      "(i) Valor exato (p): 1.1333333333333333\n",
      "(ii) Valor truncado: 1.133\n",
      "(iii) Valor arredondado: 1.133\n",
      "(iv) Erros relativos (ii) e (iii)\n",
      "Erro relativo (ii): 0.00029411764705879114\n",
      "Erro relativo (iii): 0.00029411764705879114\n"
     ]
    }
   ],
   "source": [
    "#qA\n",
    "show_resul( (4/5) + (1/3) )"
   ]
  },
  {
   "cell_type": "code",
   "execution_count": 7,
   "metadata": {},
   "outputs": [
    {
     "name": "stdout",
     "output_type": "stream",
     "text": [
      "(i) Valor exato (p): 0.26666666666666666\n",
      "(ii) Valor truncado: 0.266\n",
      "(iii) Valor arredondado: 0.267\n",
      "(iv) Erros relativos (ii) e (iii)\n",
      "Erro relativo (ii): 0.002499999999999933\n",
      "Erro relativo (iii): 0.0012500000000000705\n"
     ]
    }
   ],
   "source": [
    "#qB\n",
    "show_resul( (4/5) * (1/3) )"
   ]
  },
  {
   "cell_type": "code",
   "execution_count": 8,
   "metadata": {},
   "outputs": [
    {
     "name": "stdout",
     "output_type": "stream",
     "text": [
      "(i) Valor exato (p): 0.2106060606060606\n",
      "(ii) Valor truncado: 0.210\n",
      "(iii) Valor arredondado: 0.211\n",
      "(iv) Erros relativos (ii) e (iii)\n",
      "Erro relativo (ii): 0.0028776978417266374\n",
      "Erro relativo (iii): 0.001870503597122288\n"
     ]
    }
   ],
   "source": [
    "#qC\n",
    "show_resul( ( (1/3) - (3/11) ) + (3/20) )"
   ]
  },
  {
   "cell_type": "code",
   "execution_count": 9,
   "metadata": {},
   "outputs": [
    {
     "name": "stdout",
     "output_type": "stream",
     "text": [
      "(i) Valor exato (p): 0.45606060606060594\n",
      "(ii) Valor truncado: 0.456\n",
      "(iii) Valor arredondado: 0.456\n",
      "(iv) Erros relativos (ii) e (iii)\n",
      "Erro relativo (ii): 0.00013289036544821375\n",
      "Erro relativo (iii): 0.00013289036544821375\n"
     ]
    }
   ],
   "source": [
    "#qD\n",
    "show_resul( ( (1/3) + (3/11) ) - (3/20) )"
   ]
  }
 ],
 "metadata": {
  "kernelspec": {
   "display_name": "Python 3.10.4 ('py36')",
   "language": "python",
   "name": "python3"
  },
  "language_info": {
   "codemirror_mode": {
    "name": "ipython",
    "version": 3
   },
   "file_extension": ".py",
   "mimetype": "text/x-python",
   "name": "python",
   "nbconvert_exporter": "python",
   "pygments_lexer": "ipython3",
   "version": "3.10.4"
  },
  "orig_nbformat": 4,
  "vscode": {
   "interpreter": {
    "hash": "04dcb3f6a367c728cd23f66085c9c7d5d2b5cfc39fd5eebfcaa944146d36fa18"
   }
  }
 },
 "nbformat": 4,
 "nbformat_minor": 2
}
