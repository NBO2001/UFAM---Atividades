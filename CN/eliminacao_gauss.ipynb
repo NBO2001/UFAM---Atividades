{
 "cells": [
  {
   "cell_type": "code",
   "execution_count": 37,
   "metadata": {},
   "outputs": [],
   "source": [
    "#Computacao Numerica - Calculo Numerico\n",
    "#Algoritmo 1.1 - Eliminacao de Gauss\n",
    "\n",
    "import numpy as np"
   ]
  },
  {
   "cell_type": "code",
   "execution_count": null,
   "metadata": {},
   "outputs": [],
   "source": []
  },
  {
   "cell_type": "code",
   "execution_count": 38,
   "metadata": {},
   "outputs": [],
   "source": [
    "def gaussElimin(a, b):\n",
    "    # n = 3\n",
    "    n = len(b)\n",
    "# Elimination Phase\n",
    "    # k in [0, 1]\n",
    "    for k in range(0, n-1):\n",
    "\n",
    "        # i in [ 1 ]\n",
    "        for i in range(k+1, n):\n",
    "\n",
    "            if a[i, k] != 0.0:\n",
    "                lam = a[i, k]/a[k, k]\n",
    "                a[i, k+1:n] = a[i, k+1:n] - lam*a[k, k+1:n]\n",
    "                b[i] = b[i] - lam*b[k]\n",
    "\n",
    "    \n",
    "\n",
    "# Back substitution\n",
    "    for k in range(n-1, -1, -1):\n",
    "        b[k] = (b[k] - np.dot(a[k, k+1:n], b[k+1:n]))/a[k, k]\n",
    "    return (a,b)"
   ]
  },
  {
   "cell_type": "code",
   "execution_count": 39,
   "metadata": {},
   "outputs": [],
   "source": [
    "z = np.array([[4.0, 1.0, 2.0], [2.0, 4.0, -1.0], [1.0, 1.0, -3.0]])\n",
    "k = np.array([[9.0, -5.0, -9.0]])"
   ]
  },
  {
   "cell_type": "code",
   "execution_count": 41,
   "metadata": {},
   "outputs": [
    {
     "name": "stdout",
     "output_type": "stream",
     "text": [
      "2.0 1.0 0.75 "
     ]
    }
   ],
   "source": [
    "\n",
    "y,x = gaussElimin(z, k[0])\n",
    "# print('x = \\n', x)\n"
   ]
  },
  {
   "cell_type": "code",
   "execution_count": 42,
   "metadata": {},
   "outputs": [
    {
     "name": "stdout",
     "output_type": "stream",
     "text": [
      "[[ 4.          1.          2.        ]\n",
      " [ 2.          3.5        -2.        ]\n",
      " [ 1.          0.75       -3.07142857]]\n"
     ]
    }
   ],
   "source": [
    "print(y)"
   ]
  }
 ],
 "metadata": {
  "kernelspec": {
   "display_name": "Python 3.10.4 ('py36')",
   "language": "python",
   "name": "python3"
  },
  "language_info": {
   "codemirror_mode": {
    "name": "ipython",
    "version": 3
   },
   "file_extension": ".py",
   "mimetype": "text/x-python",
   "name": "python",
   "nbconvert_exporter": "python",
   "pygments_lexer": "ipython3",
   "version": "3.10.4"
  },
  "orig_nbformat": 4,
  "vscode": {
   "interpreter": {
    "hash": "04dcb3f6a367c728cd23f66085c9c7d5d2b5cfc39fd5eebfcaa944146d36fa18"
   }
  }
 },
 "nbformat": 4,
 "nbformat_minor": 2
}
